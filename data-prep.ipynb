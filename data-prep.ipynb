{
 "cells": [
  {
   "cell_type": "markdown",
   "metadata": {},
   "source": [
    "# Data Preparation\n",
    "\n",
    "---\n",
    "\n",
    "We retrieve the data from the Research Data Storage, which is a Network Drive embedded on my local computer as the Z drive."
   ]
  },
  {
   "cell_type": "code",
   "execution_count": null,
   "metadata": {},
   "outputs": [],
   "source": [
    "!python -m pip install pandas tqdm --quiet"
   ]
  },
  {
   "cell_type": "markdown",
   "metadata": {},
   "source": [
    "We use the `TCRseq_filename.csv` file to locate the desired file.  We are looking for the following:\n",
    "- Lung Cancer Pre-Surgery\n",
    "- Blood Cancer Pre-Surgery"
   ]
  },
  {
   "cell_type": "code",
   "execution_count": null,
   "metadata": {},
   "outputs": [],
   "source": [
    "import pandas as pd\n",
    "\n",
    "files = pd.read_csv(\"data/TCRseq_filenames.csv\")\n",
    "lungs_files = files[(files[\"organ\"] == \"LN\") & (files[\"timepoint\"] == \"SU\")]\n",
    "blood_files = files[(files[\"organ\"] == \"PBMC\") & (files[\"timepoint\"] == \"SU\")]\n",
    "files.head()"
   ]
  },
  {
   "cell_type": "markdown",
   "metadata": {},
   "source": [
    "We then load the files from the data storage to the local drive."
   ]
  },
  {
   "cell_type": "code",
   "execution_count": null,
   "metadata": {},
   "outputs": [],
   "source": [
    "import shutil, os\n",
    "from tqdm.notebook import tqdm\n",
    "\n",
    "destination_address = \"data/archive/\"\n",
    "original_address = \"Z:/TRACERx_TCRseq_Data_20221015/DATA/TSV/\"\n",
    "\n",
    "def relocate(files_df, suffix):\n",
    "    try:\n",
    "        os.makedirs(destination_address + suffix + \"/\")\n",
    "        for ltxid, filename in tqdm(files_df[[\"LTX_ID\", \"filename\"]].values.tolist(), desc = suffix.title()):\n",
    "            addr = original_address + ltxid + \"/\" + filename\n",
    "            shutil.copy2(addr, destination_address + suffix + \"/\")\n",
    "    except FileExistsError:\n",
    "        pass\n",
    "\n",
    "relocate(lungs_files, \"lung\")\n",
    "relocate(blood_files, \"pbmc\")"
   ]
  },
  {
   "cell_type": "markdown",
   "metadata": {},
   "source": []
  },
  {
   "cell_type": "code",
   "execution_count": null,
   "metadata": {},
   "outputs": [],
   "source": [
    "import gzip, glob\n",
    "\n",
    "def decompress(extract_from, extract_to):\n",
    "    try:\n",
    "        os.makedirs(extract_to)\n",
    "        for fname in tqdm(list(glob.glob(extract_from + \"*.gz\"))):\n",
    "            fname = fname.replace(\"\\\\\", \"/\")\n",
    "            with gzip.open(fname, \"rt\") as f:\n",
    "                file_content = f.read()\n",
    "            f = open(extract_to + fname.split(\"/\")[-1].replace(\".gz\", \"\"), \"w\")\n",
    "            f.write(file_content)\n",
    "            f.close()\n",
    "    except FileExistsError:\n",
    "        pass\n",
    "\n",
    "decompress(\"data/archive/lung/\", \"data/files/lung/\")\n",
    "decompress(\"data/archive/pbmc/\", \"data/files/pbmc/\")"
   ]
  },
  {
   "cell_type": "markdown",
   "metadata": {},
   "source": []
  },
  {
   "cell_type": "code",
   "execution_count": null,
   "metadata": {},
   "outputs": [],
   "source": [
    "def combine(org, dest, out_filename):\n",
    "    try:\n",
    "        os.makedirs(dest)\n",
    "        df = pd.DataFrame()\n",
    "        for fname in tqdm(list(glob.glob(org + \"*.tsv\")), desc = out_filename):\n",
    "            df_ = pd.read_csv(fname.replace(\"\\\\\", \"/\"), delimiter = \"\\t\")\n",
    "            df_[\"sequence_id\"] = fname.split(\"/\")[-1].replace(\".tsv\", \"\") + \"_\" + df_[\"sequence_id\"].astype(str)\n",
    "            df_.set_index(\"sequence_id\", inplace = True)\n",
    "            df = pd.concat([df, df_], axis = 0)\n",
    "        df.to_csv(dest + out_filename + \".csv\")\n",
    "    except FileExistsError:\n",
    "        pass\n",
    "\n",
    "combine(\"data/files/lung/\", \"data/combined/\", \"lung\")\n",
    "combine(\"data/files/pbmc/\", \"data/combined/\", \"pbmc\")"
   ]
  }
 ],
 "metadata": {
  "kernelspec": {
   "display_name": "Python 3",
   "language": "python",
   "name": "python3"
  },
  "language_info": {
   "codemirror_mode": {
    "name": "ipython",
    "version": 3
   },
   "file_extension": ".py",
   "mimetype": "text/x-python",
   "name": "python",
   "nbconvert_exporter": "python",
   "pygments_lexer": "ipython3",
   "version": "3.9.13"
  }
 },
 "nbformat": 4,
 "nbformat_minor": 2
}
