{
 "cells": [
  {
   "cell_type": "code",
   "execution_count": 1,
   "metadata": {},
   "outputs": [],
   "source": [
    "from sceptr import sceptr\n",
    "import pandas as pd\n",
    "from src.model import sceptr_unidirectional, load_trained\n",
    "from pathlib import Path\n",
    "import torch\n",
    "import re\n",
    "import warnings\n",
    "import matplotlib.pyplot as plt\n",
    "from tqdm.notebook import tqdm\n",
    "\n",
    "warnings.filterwarnings(\"ignore\")\n",
    "\n",
    "dir = Path.cwd() / \"results\" / \"sceptr\" / \"eval\" / \"trained-sceptr-caneval-0\"\n",
    "pattern = re.compile(r\"eval-set-auc-(.*).csv\")\n",
    "bestepoch = int(pattern.match(str(list(dir.glob(\"eval-set-auc-*.csv\"))[0].name)).group(1))\n",
    "\n",
    "model = dir / f\"Epoch {bestepoch}\" / f\"classifier-{bestepoch}.pth\"\n",
    "model = load_trained(model, sceptr_unidirectional)"
   ]
  },
  {
   "cell_type": "code",
   "execution_count": 2,
   "metadata": {},
   "outputs": [],
   "source": [
    "files = list((Path.cwd() / \"data\" / \"sceptr-eval\").glob(\"**/*.tsv\"))\n",
    "dfs = [(pd.read_csv(i, sep = \"\\t\", dtype = object), int(\"cancer\" in str(i))) for i in files]"
   ]
  },
  {
   "cell_type": "code",
   "execution_count": 3,
   "metadata": {},
   "outputs": [
    {
     "data": {
      "application/vnd.jupyter.widget-view+json": {
       "model_id": "deefeec7b133436fb17ec4836a22413e",
       "version_major": 2,
       "version_minor": 0
      },
      "text/plain": [
       "  0%|          | 0/19 [00:00<?, ?it/s]"
      ]
     },
     "metadata": {},
     "output_type": "display_data"
    }
   ],
   "source": [
    "control_idx = []\n",
    "cancer_idx = []\n",
    "\n",
    "for i, item in tqdm(list(enumerate(dfs))):\n",
    "    df, label = item\n",
    "    vecs = torch.from_numpy(sceptr.calc_vector_representations(df))\n",
    "    vecs = vecs.cuda() if torch.cuda.is_available() else vecs\n",
    "    pred = model(vecs)\n",
    "\n",
    "    if int(round(pred.item(), 0)) == label:\n",
    "        nonzeros = torch.nonzero(model.last_weights)[:, 0].tolist()\n",
    "\n",
    "        if label == 1:\n",
    "            cancer_idx.append((files[i], label, nonzeros))\n",
    "        else:\n",
    "            control_idx.append((files[i], label, nonzeros))"
   ]
  },
  {
   "cell_type": "code",
   "execution_count": 4,
   "metadata": {},
   "outputs": [
    {
     "data": {
      "application/vnd.jupyter.widget-view+json": {
       "model_id": "90acf28a3f2549b0af8bbdccf21bdfa8",
       "version_major": 2,
       "version_minor": 0
      },
      "text/plain": [
       "  0%|          | 0/9 [00:00<?, ?it/s]"
      ]
     },
     "metadata": {},
     "output_type": "display_data"
    },
    {
     "ename": "KeyError",
     "evalue": "'dcr_HCW_0125.tsv'",
     "output_type": "error",
     "traceback": [
      "\u001b[1;31m---------------------------------------------------------------------------\u001b[0m",
      "\u001b[1;31mKeyError\u001b[0m                                  Traceback (most recent call last)",
      "Cell \u001b[1;32mIn[4], line 47\u001b[0m\n\u001b[0;32m     45\u001b[0m idx \u001b[38;5;241m=\u001b[39m [i \u001b[38;5;28;01mfor\u001b[39;00m i \u001b[38;5;129;01min\u001b[39;00m idx \u001b[38;5;28;01mif\u001b[39;00m i \u001b[38;5;241m<\u001b[39m \u001b[38;5;28mlen\u001b[39m(df)]\n\u001b[0;32m     46\u001b[0m \u001b[38;5;28;01mif\u001b[39;00m file\u001b[38;5;241m.\u001b[39mname \u001b[38;5;129;01mnot\u001b[39;00m \u001b[38;5;129;01min\u001b[39;00m chains\u001b[38;5;241m.\u001b[39mkeys():\n\u001b[1;32m---> 47\u001b[0m     \u001b[43mchains\u001b[49m\u001b[43m[\u001b[49m\u001b[43mfile\u001b[49m\u001b[38;5;241;43m.\u001b[39;49m\u001b[43mname\u001b[49m\u001b[43m]\u001b[49m[\u001b[38;5;124m\"\u001b[39m\u001b[38;5;124malpha\u001b[39m\u001b[38;5;124m\"\u001b[39m \u001b[38;5;28;01mif\u001b[39;00m \u001b[38;5;124m\"\u001b[39m\u001b[38;5;124malpha\u001b[39m\u001b[38;5;124m\"\u001b[39m \u001b[38;5;129;01min\u001b[39;00m \u001b[38;5;28mstr\u001b[39m(raw) \u001b[38;5;28;01melse\u001b[39;00m \u001b[38;5;124m\"\u001b[39m\u001b[38;5;124mbeta\u001b[39m\u001b[38;5;124m\"\u001b[39m] \u001b[38;5;241m=\u001b[39m {}\n\u001b[0;32m     48\u001b[0m chains[file\u001b[38;5;241m.\u001b[39mname][\u001b[38;5;124m\"\u001b[39m\u001b[38;5;124malpha\u001b[39m\u001b[38;5;124m\"\u001b[39m \u001b[38;5;28;01mif\u001b[39;00m \u001b[38;5;124m\"\u001b[39m\u001b[38;5;124malpha\u001b[39m\u001b[38;5;124m\"\u001b[39m \u001b[38;5;129;01min\u001b[39;00m \u001b[38;5;28mstr\u001b[39m(raw) \u001b[38;5;28;01melse\u001b[39;00m \u001b[38;5;124m\"\u001b[39m\u001b[38;5;124mbeta\u001b[39m\u001b[38;5;124m\"\u001b[39m] \u001b[38;5;241m=\u001b[39m df\u001b[38;5;241m.\u001b[39miloc[idx]\n",
      "\u001b[1;31mKeyError\u001b[0m: 'dcr_HCW_0125.tsv'"
     ]
    }
   ],
   "source": [
    "import tidytcells as tt\n",
    "\n",
    "def cleandf(df):\n",
    "    # We enforce the V call and J call to be from Alpha or Beta Chains First\n",
    "    enforce_abv = df[\"v_call\"].str.startswith(\"TRA\") | df[\"v_call\"].str.startswith(\"TRB\") | pd.isna(df[\"v_call\"])\n",
    "    enforce_abj = df[\"j_call\"].str.startswith(\"TRA\") | df[\"j_call\"].str.startswith(\"TRB\") | pd.isna(df[\"j_call\"])\n",
    "    enforce_cdr3_notempty = ~pd.isna(df[\"junction_aa\"])\n",
    "    df = df[enforce_abv & enforce_abj & enforce_cdr3_notempty].copy()\n",
    "    # We then enforce them to be functional\n",
    "    df[\"v_call\"] = df[\"v_call\"].apply(lambda i: tt.tr.standardise(i, enforce_functional = True, suppress_warnings = True) \\\n",
    "        if i is not None else i)\n",
    "\n",
    "    df[\"j_call\"] = df[\"j_call\"].apply(lambda i: tt.tr.standardise(i, enforce_functional = True, suppress_warnings = True) \\\n",
    "        if i is not None else i)\n",
    "    \n",
    "    return df\n",
    "\n",
    "\n",
    "seqfnames = pd.read_csv(\"rds_file_locations/tcrseq_pbmcfnames.csv\")\n",
    "chains = {}\n",
    "nonzero_idx = control_idx[:]\n",
    "\n",
    "for file, label, idx in tqdm(nonzero_idx):\n",
    "    if label == 0:\n",
    "        dir = Path.cwd() / \"data\" / \"full-trimmed\" / \"control\"\n",
    "        pat = file.name.replace(\".tsv\", \"\")\n",
    "        raws = list(dir.glob(f\"*{pat}*\"))\n",
    "    else:\n",
    "        patid = file.name.replace(\"_positive.tsv\", \"\")\n",
    "        fname = seqfnames[seqfnames[\"LTX_ID\"] == patid][\"filename\"].tolist()\n",
    "        fname = [i.replace(\".gz\", \"\") for i in fname]\n",
    "        dir = Path.cwd() / \"data\" / \"full-trimmed\" / \"pbmc_cancer\"\n",
    "        raws = [dir / i for i in fname if (dir / i).exists()]\n",
    "    \n",
    "    for raw in raws:\n",
    "        if raw.suffix == \".tsv\":\n",
    "            df = pd.read_csv(raw, delimiter = \"\\t\")\n",
    "            df = df[[\"v_call\", \"j_call\", \"junction_aa\", \"duplicate_count\"]]\n",
    "            df = df.dropna(axis=0, how=\"all\")\n",
    "            df = cleandf(df)\n",
    "        else:\n",
    "            df = pd.read_csv(raw, delimiter = \", \", index_col=None, header=None)\n",
    "            df.columns = [\"junction_aa\", \"duplicate_count\"]\n",
    "            \n",
    "        idx = [i for i in idx if i < len(df)]\n",
    "        if file.name not in chains.keys():\n",
    "            chains[file.name][\"alpha\" if \"alpha\" in str(raw) else \"beta\"] = {}\n",
    "        chains[file.name][\"alpha\" if \"alpha\" in str(raw) else \"beta\"] = df.iloc[idx]"
   ]
  },
  {
   "cell_type": "code",
   "execution_count": null,
   "metadata": {},
   "outputs": [],
   "source": []
  }
 ],
 "metadata": {
  "kernelspec": {
   "display_name": "Python 3",
   "language": "python",
   "name": "python3"
  },
  "language_info": {
   "codemirror_mode": {
    "name": "ipython",
    "version": 3
   },
   "file_extension": ".py",
   "mimetype": "text/x-python",
   "name": "python",
   "nbconvert_exporter": "python",
   "pygments_lexer": "ipython3",
   "version": "3.11.7"
  }
 },
 "nbformat": 4,
 "nbformat_minor": 2
}
