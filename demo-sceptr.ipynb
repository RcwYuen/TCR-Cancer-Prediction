{
 "cells": [
  {
   "cell_type": "code",
   "execution_count": 122,
   "metadata": {},
   "outputs": [],
   "source": [
    "from sceptr import sceptr\n",
    "import pandas as pd\n",
    "from src.model import sceptr_unidirectional, load_trained\n",
    "from pathlib import Path\n",
    "import torch\n",
    "import re\n",
    "import warnings\n",
    "import matplotlib.pyplot as plt\n",
    "from tqdm.notebook import tqdm\n",
    "\n",
    "warnings.filterwarnings(\"ignore\")\n",
    "\n",
    "dir = Path.cwd() / \"results\" / \"sceptr\" / \"eval\" / \"trained-sceptr-caneval-2\"\n",
    "#pattern = re.compile(r\"eval-set-auc-(.*).csv\")\n",
    "#bestepoch = int(pattern.match(str(list(dir.glob(\"eval-set-auc-*.csv\"))[0].name)).group(1))\n",
    "bestepoch = 49\n",
    "\n",
    "model = dir / f\"Epoch {bestepoch}\" / f\"classifier-{bestepoch}.pth\"\n",
    "model = load_trained(model, sceptr_unidirectional)"
   ]
  },
  {
   "cell_type": "code",
   "execution_count": 123,
   "metadata": {},
   "outputs": [],
   "source": [
    "files = list((Path.cwd() / \"data\" / \"sceptr-eval\").glob(\"**/*.tsv\"))\n",
    "dfs = [(pd.read_csv(i, sep = \"\\t\", dtype = object), int(\"cancer\" in str(i))) for i in files]"
   ]
  },
  {
   "cell_type": "code",
   "execution_count": 124,
   "metadata": {},
   "outputs": [
    {
     "data": {
      "application/vnd.jupyter.widget-view+json": {
       "model_id": "85231a812f894bffa30a3f8d8adbfc36",
       "version_major": 2,
       "version_minor": 0
      },
      "text/plain": [
       "  0%|          | 0/19 [00:00<?, ?it/s]"
      ]
     },
     "metadata": {},
     "output_type": "display_data"
    }
   ],
   "source": [
    "def alphafirst(df):\n",
    "    return pd.isna(df.iloc[0]).values[3:].all()\n",
    "\n",
    "def splitidx(df):\n",
    "    return df[pd.isna(df[\"CDR3A\"])].index[0]\n",
    "\n",
    "control_idx = []\n",
    "cancer_idx = []\n",
    "\n",
    "for i, item in tqdm(list(enumerate(dfs))):\n",
    "    df, label = item\n",
    "    vecs = torch.from_numpy(sceptr.calc_vector_representations(df))\n",
    "    vecs = vecs.cuda() if torch.cuda.is_available() else vecs\n",
    "    pred = model(vecs)\n",
    "\n",
    "    if int(round(pred.item(), 0)) == label:\n",
    "        idx = splitidx(df)\n",
    "        nonzeros = torch.nonzero(model.last_weights)[:, 0].tolist()\n",
    "        ws = model.last_weights[torch.nonzero(model.last_weights)[:, 0]][:, 0].tolist()\n",
    "        alpha = [(i, model.last_weights[i].item()) for i in nonzeros if i < idx]\n",
    "        betas = [(i - idx, model.last_weights[i].item()) for i in nonzeros if i >= idx]\n",
    "\n",
    "        if not alphafirst(df):\n",
    "            alpha, betas = betas, alpha\n",
    "\n",
    "        if label == 1:\n",
    "            cancer_idx.append((files[i], label, {\"alpha\": alpha, \"beta\": betas}))\n",
    "        else:\n",
    "            control_idx.append((files[i], label, {\"alpha\": alpha, \"beta\": betas}))"
   ]
  },
  {
   "cell_type": "code",
   "execution_count": 125,
   "metadata": {},
   "outputs": [
    {
     "data": {
      "application/vnd.jupyter.widget-view+json": {
       "model_id": "c01d0bddbe354b689e32259599466443",
       "version_major": 2,
       "version_minor": 0
      },
      "text/plain": [
       "  0%|          | 0/9 [00:00<?, ?it/s]"
      ]
     },
     "metadata": {},
     "output_type": "display_data"
    }
   ],
   "source": [
    "import tidytcells as tt\n",
    "\n",
    "def cleandf(df):\n",
    "    # We enforce the V call and J call to be from Alpha or Beta Chains First\n",
    "    enforce_abv = df[\"v_call\"].str.startswith(\"TRA\") | df[\"v_call\"].str.startswith(\"TRB\") | pd.isna(df[\"v_call\"])\n",
    "    enforce_abj = df[\"j_call\"].str.startswith(\"TRA\") | df[\"j_call\"].str.startswith(\"TRB\") | pd.isna(df[\"j_call\"])\n",
    "    enforce_cdr3_notempty = ~pd.isna(df[\"junction_aa\"])\n",
    "    df = df[enforce_abv & enforce_abj & enforce_cdr3_notempty].copy()\n",
    "    # We then enforce them to be functional\n",
    "    df[\"v_call\"] = df[\"v_call\"].apply(lambda i: tt.tr.standardise(i, enforce_functional = True, suppress_warnings = True) \\\n",
    "        if i is not None else i)\n",
    "\n",
    "    df[\"j_call\"] = df[\"j_call\"].apply(lambda i: tt.tr.standardise(i, enforce_functional = True, suppress_warnings = True) \\\n",
    "        if i is not None else i)\n",
    "    \n",
    "    return df\n",
    "\n",
    "\n",
    "seqfnames = pd.read_csv(\"rds_file_locations/tcrseq_pbmcfnames.csv\")\n",
    "chains = {}\n",
    "nonzero_idx = cancer_idx[:]\n",
    "\n",
    "for file, label, idx in tqdm(nonzero_idx):\n",
    "    if label == 0:\n",
    "        dir = Path.cwd() / \"data\" / \"full-trimmed\" / \"control\"\n",
    "        pat = file.name.replace(\".tsv\", \"\")\n",
    "        raws = list(dir.glob(f\"*{pat}*\"))\n",
    "    else:\n",
    "        patid = file.name.replace(\"_positive.tsv\", \"\")\n",
    "        fname = seqfnames[seqfnames[\"LTX_ID\"] == patid][\"filename\"].tolist()\n",
    "        fname = [i.replace(\".gz\", \"\") for i in fname]\n",
    "        dir = Path.cwd() / \"data\" / \"full-trimmed\" / \"pbmc_cancer\"\n",
    "        raws = [dir / i for i in fname if (dir / i).exists()]\n",
    "    \n",
    "    for raw in raws:\n",
    "        chain = \"alpha\" if \"alpha\" in str(raw) else \"beta\"\n",
    "        \n",
    "        if raw.suffix == \".tsv\":\n",
    "            df = pd.read_csv(raw, delimiter = \"\\t\")\n",
    "            df = df[[\"v_call\", \"j_call\", \"junction_aa\", \"duplicate_count\"]]\n",
    "            df = df.dropna(axis=0, how=\"all\")\n",
    "            df = cleandf(df)\n",
    "        else:\n",
    "            df = pd.read_csv(raw, delimiter = \", \", index_col=None, header=None)\n",
    "            df.columns = [\"junction_aa\", \"duplicate_count\"]\n",
    "            \n",
    "        if file.name not in chains.keys():\n",
    "            chains[file.name] = {}\n",
    "        chains[file.name][chain] = df.iloc[[i[0] for i in idx[chain]]]\n",
    "        chains[file.name][chain][\"prob\"] = [i[1] for i in idx[chain]]\n",
    "        chains[file.name][chain].sort_values(by = [\"prob\"], inplace = True, ascending = False)\n"
   ]
  },
  {
   "cell_type": "code",
   "execution_count": 136,
   "metadata": {},
   "outputs": [],
   "source": [
    "fnames = list(chains.keys())\n",
    "chain = \"beta\"\n",
    "cdr3s = pd.concat([chains[f][chain] for f in fnames])\n",
    "cdr3s.sort_values(by = [\"prob\"], ascending = False).to_csv(\"top-ranking-tcrs.csv\")"
   ]
  },
  {
   "cell_type": "code",
   "execution_count": 129,
   "metadata": {},
   "outputs": [],
   "source": [
    "from collections import Counter\n",
    "\n",
    "def visualise(chain):\n",
    "    fnames = list(chains.keys())\n",
    "    vs = sum([chains[f][chain][\"v_call\"].tolist() for f in fnames], [])\n",
    "    js = sum([chains[f][chain][\"j_call\"].tolist() for f in fnames], [])\n",
    "    cdr3s = sum([chains[f][chain][\"junction_aa\"].tolist() for f in fnames], [])\n",
    "\n",
    "    print (\"{:30}| {:7}\".format(\"V Call\", \"Repeat\"))\n",
    "    for key, repeats in Counter(vs).items():\n",
    "        print (f\"{key:30}| {repeats:7}\")\n",
    "\n",
    "    print (\"{:30}| {:7}\".format(\"J Call\", \"Repeat\"))\n",
    "    for key, repeats in Counter(js).items():\n",
    "        print (f\"{key:30}| {repeats:7}\")\n",
    "\n",
    "    print (\"\")\n",
    "    cdr3s = list(dict(Counter(cdr3s)).items())\n",
    "    cdr3s.sort(key = lambda x: -x[1])\n",
    "    for key, item in cdr3s:\n",
    "        if item == 1:\n",
    "            break\n",
    "        \n",
    "        print (f\"CDR3: {key}\")\n",
    "        for f in fnames:\n",
    "            if chains[f][chain][\"junction_aa\"].str.contains(key).any():\n",
    "                print (f)\n",
    "                print (chains[f][chain].loc[chains[f][chain][\"junction_aa\"].str.contains(key)])\n",
    "        print (\"\")\n"
   ]
  },
  {
   "cell_type": "code",
   "execution_count": 130,
   "metadata": {},
   "outputs": [
    {
     "name": "stdout",
     "output_type": "stream",
     "text": [
      "V Call                        | Repeat \n",
      "TRAV19                        |      50\n",
      "TRAV27                        |       1\n",
      "TRAV10                        |       2\n",
      "TRAV3                         |       2\n",
      "TRAV8-6                       |       4\n",
      "TRAV8-2                       |       1\n",
      "TRAV13-2                      |       1\n",
      "TRAV23/DV6                    |       2\n",
      "J Call                        | Repeat \n",
      "TRAJ6                         |      29\n",
      "TRAJ28                        |      15\n",
      "TRAJ15                        |       2\n",
      "TRAJ45                        |       3\n",
      "TRAJ32                        |       1\n",
      "TRAJ57                        |       1\n",
      "TRAJ22                        |       1\n",
      "TRAJ54                        |       3\n",
      "TRAJ30                        |       3\n",
      "TRAJ53                        |       1\n",
      "TRAJ56                        |       3\n",
      "TRAJ29                        |       1\n",
      "\n",
      "CDR3: CALSEAAGAGSYQLTF\n",
      "LTX0474_positive.tsv\n",
      "       v_call  j_call       junction_aa  duplicate_count      prob\n",
      "9587   TRAV19  TRAJ28  CALSEAAGAGSYQLTF                2  0.008082\n",
      "12812  TRAV19  TRAJ28  CALSEAAGAGSYQLTF                1  0.008082\n",
      "12820  TRAV19  TRAJ28  CALSEAAGAGSYQLTF                1  0.008082\n",
      "16848  TRAV19  TRAJ28  CALSEAAGAGSYQLTF                1  0.008082\n",
      "12120  TRAV19  TRAJ28  CALSEAAGAGSYQLTF             1507  0.008082\n",
      "9589   TRAV19  TRAJ28  CALSEAAGAGSYQLTF                1  0.008082\n",
      "6927   TRAV19  TRAJ28  CALSEAAGAGSYQLTF                2  0.008082\n",
      "\n"
     ]
    }
   ],
   "source": [
    "visualise(\"alpha\")"
   ]
  },
  {
   "cell_type": "code",
   "execution_count": 131,
   "metadata": {},
   "outputs": [
    {
     "name": "stdout",
     "output_type": "stream",
     "text": [
      "V Call                        | Repeat \n",
      "TRBV2                         |     240\n",
      "TRBV10-3                      |      46\n",
      "J Call                        | Repeat \n",
      "TRBJ1-1                       |      50\n",
      "TRBJ1-2                       |      37\n",
      "TRBJ2-2                       |       4\n",
      "TRBJ2-7                       |      89\n",
      "TRBJ2-1                       |      72\n",
      "TRBJ2-3                       |      17\n",
      "TRBJ1-4                       |       1\n",
      "TRBJ1-3                       |       2\n",
      "TRBJ2-5                       |       3\n",
      "TRBJ1-5                       |       6\n",
      "TRBJ1-6                       |       1\n",
      "TRBJ2-4                       |       4\n",
      "\n",
      "CDR3: CAISEDDANEQYF\n",
      "LTX0538_positive.tsv\n",
      "        v_call   j_call    junction_aa  duplicate_count      prob\n",
      "2759  TRBV10-3  TRBJ2-7  CAISEDDANEQYF               13  0.036713\n",
      "LTX0648_positive.tsv\n",
      "        v_call   j_call    junction_aa  duplicate_count      prob\n",
      "4802  TRBV10-3  TRBJ2-7  CAISEDDANEQYF                9  0.043292\n",
      "LTX0672_positive.tsv\n",
      "        v_call   j_call    junction_aa  duplicate_count     prob\n",
      "4961  TRBV10-3  TRBJ2-7  CAISEDDANEQYF                1  0.02678\n",
      "LTX0674_positive.tsv\n",
      "        v_call   j_call    junction_aa  duplicate_count    prob\n",
      "5037  TRBV10-3  TRBJ2-7  CAISEDDANEQYF                7  0.0298\n",
      "\n",
      "CDR3: CASSLVGPSYEQYF\n",
      "LTX0672_positive.tsv\n",
      "     v_call   j_call     junction_aa  duplicate_count      prob\n",
      "233   TRBV2  TRBJ2-7  CASSLVGPSYEQYF                1  0.072245\n",
      "4956  TRBV2  TRBJ2-7  CASSLVGPSYEQYF                1  0.072245\n",
      "4368  TRBV2  TRBJ2-7  CASSLVGPSYEQYF              272  0.072245\n",
      "LTX0678_positive.tsv\n",
      "  v_call   j_call     junction_aa  duplicate_count      prob\n",
      "6  TRBV2  TRBJ2-7  CASSLVGPSYEQYF                2  0.070816\n",
      "\n",
      "CDR3: CASSFRGGADEGYTF\n",
      "LTX0538_positive.tsv\n",
      "     v_call   j_call      junction_aa  duplicate_count     prob\n",
      "1925  TRBV2  TRBJ1-2  CASSFRGGADEGYTF               16  0.06152\n",
      "LTX0674_positive.tsv\n",
      "     v_call   j_call      junction_aa  duplicate_count      prob\n",
      "4677  TRBV2  TRBJ1-2  CASSFRGGADEGYTF               32  0.054607\n",
      "\n",
      "CDR3: CASCPGLDYEQYF\n",
      "LTX0538_positive.tsv\n",
      "   v_call   j_call    junction_aa  duplicate_count      prob\n",
      "55  TRBV2  TRBJ2-7  CASCPGLDYEQYF                2  0.043026\n",
      "LTX0648_positive.tsv\n",
      "    v_call   j_call    junction_aa  duplicate_count      prob\n",
      "119  TRBV2  TRBJ2-7  CASCPGLDYEQYF                1  0.049605\n",
      "\n",
      "CDR3: CASEGQSYGYTF\n",
      "LTX0538_positive.tsv\n",
      "     v_call   j_call   junction_aa  duplicate_count      prob\n",
      "1536  TRBV2  TRBJ1-2  CASEGQSYGYTF                1  0.000915\n",
      "LTX0648_positive.tsv\n",
      "     v_call   j_call   junction_aa  duplicate_count      prob\n",
      "2578  TRBV2  TRBJ1-2  CASEGQSYGYTF                1  0.007494\n",
      "\n",
      "CDR3: CASSLQGTYEQYF\n",
      "LTX0648_positive.tsv\n",
      "     v_call   j_call    junction_aa  duplicate_count      prob\n",
      "1507  TRBV2  TRBJ2-7  CASSLQGTYEQYF                1  0.044793\n",
      "LTX0674_positive.tsv\n",
      "     v_call   j_call    junction_aa  duplicate_count      prob\n",
      "1591  TRBV2  TRBJ2-7  CASSLQGTYEQYF                1  0.031301\n",
      "\n",
      "CDR3: CASSEGDRIYEQYF\n",
      "LTX0648_positive.tsv\n",
      "    v_call   j_call     junction_aa  duplicate_count      prob\n",
      "677  TRBV2  TRBJ2-7  CASSEGDRIYEQYF                1  0.032221\n",
      "LTX0674_positive.tsv\n",
      "    v_call   j_call     junction_aa  duplicate_count      prob\n",
      "689  TRBV2  TRBJ2-7  CASSEGDRIYEQYF                1  0.018729\n",
      "\n",
      "CDR3: CASRVPRLDEQFF\n",
      "LTX0672_positive.tsv\n",
      "    v_call   j_call    junction_aa  duplicate_count      prob\n",
      "829  TRBV2  TRBJ2-1  CASRVPRLDEQFF                1  0.042359\n",
      "LTX0678_positive.tsv\n",
      "    v_call   j_call    junction_aa  duplicate_count     prob\n",
      "660  TRBV2  TRBJ2-1  CASRVPRLDEQFF                1  0.04093\n",
      "\n"
     ]
    }
   ],
   "source": [
    "visualise(\"beta\")"
   ]
  },
  {
   "cell_type": "code",
   "execution_count": null,
   "metadata": {},
   "outputs": [],
   "source": []
  }
 ],
 "metadata": {
  "kernelspec": {
   "display_name": "Python 3",
   "language": "python",
   "name": "python3"
  },
  "language_info": {
   "codemirror_mode": {
    "name": "ipython",
    "version": 3
   },
   "file_extension": ".py",
   "mimetype": "text/x-python",
   "name": "python",
   "nbconvert_exporter": "python",
   "pygments_lexer": "ipython3",
   "version": "3.11.7"
  }
 },
 "nbformat": 4,
 "nbformat_minor": 2
}
