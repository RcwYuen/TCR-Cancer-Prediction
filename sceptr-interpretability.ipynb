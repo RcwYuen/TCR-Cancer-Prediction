{
 "cells": [
  {
   "cell_type": "code",
   "execution_count": 1,
   "metadata": {},
   "outputs": [],
   "source": [
    "from sceptr import sceptr\n",
    "import pandas as pd\n",
    "from src.model import sceptr_unidirectional, load_trained\n",
    "from pathlib import Path\n",
    "import torch\n",
    "import re\n",
    "import warnings\n",
    "import matplotlib.pyplot as plt\n",
    "from tqdm.notebook import tqdm\n",
    "\n",
    "warnings.filterwarnings(\"ignore\")\n",
    "\n",
    "dir = Path.cwd() / \"results\" / \"sceptr\" / \"trained-sceptr-caneval-4\"\n",
    "#pattern = re.compile(r\"eval-set-auc-(.*).csv\")\n",
    "#bestepoch = int(pattern.match(str(list(dir.glob(\"eval-set-auc-*.csv\"))[0].name)).group(1))\n",
    "bestepoch = 49\n",
    "\n",
    "model = dir / f\"Epoch {bestepoch}\" / f\"classifier-{bestepoch}.pth\"\n",
    "model = load_trained(model, sceptr_unidirectional)"
   ]
  },
  {
   "cell_type": "code",
   "execution_count": 2,
   "metadata": {},
   "outputs": [],
   "source": [
    "files = list((Path.cwd() / \"data\" / \"sceptr-eval\").glob(\"**/*.tsv\"))\n",
    "dfs = [(pd.read_csv(i, sep = \"\\t\", dtype = object), int(\"cancer\" in str(i))) for i in files]"
   ]
  },
  {
   "cell_type": "code",
   "execution_count": 16,
   "metadata": {},
   "outputs": [
    {
     "name": "stdout",
     "output_type": "stream",
     "text": [
      "Unique Alpha V Calls: 44\n",
      "Unique Alpha J Calls: 51\n",
      "Unique Beta V Calls : 45\n",
      "Unique Beta J Calls : 13\n",
      "Total Alphas: 464300\n",
      "Total Betas: 680238\n"
     ]
    }
   ],
   "source": [
    "alphav = set()\n",
    "alphaj = set()\n",
    "betav = set()\n",
    "betaj = set()\n",
    "alphas = 0\n",
    "beta = 0\n",
    "\n",
    "for df, _ in dfs:\n",
    "    alphas += len(df[\"TRAV\"].dropna())\n",
    "    beta  += len(df[\"TRBV\"].dropna())\n",
    "    alphav = alphav.union(set(df[\"TRAV\"].dropna().unique().tolist()))\n",
    "    alphaj = alphaj.union(set(df[\"TRAJ\"].dropna().unique().tolist()))\n",
    "    betav = betav.union(set(df[\"TRBV\"].dropna().unique().tolist()))\n",
    "    betaj = betaj.union(set(df[\"TRBJ\"].dropna().unique().tolist()))\n",
    "\n",
    "print (f\"Unique Alpha V Calls: {len(alphav)}\")\n",
    "print (f\"Unique Alpha J Calls: {len(alphaj)}\")\n",
    "print (f\"Unique Beta V Calls : {len(betav)}\")\n",
    "print (f\"Unique Beta J Calls : {len(betaj)}\")\n",
    "print (f\"Total Alphas: {alphas}\")\n",
    "print (f\"Total Betas: {beta}\")"
   ]
  },
  {
   "cell_type": "code",
   "execution_count": null,
   "metadata": {},
   "outputs": [],
   "source": [
    "def alphafirst(df):\n",
    "    return pd.isna(df.iloc[0]).values[3:].all()\n",
    "\n",
    "def splitidx(df):\n",
    "    return df[pd.isna(df[\"CDR3A\"])].index[0]\n",
    "\n",
    "control_idx = []\n",
    "cancer_idx = []\n",
    "\n",
    "for i, item in tqdm(list(enumerate(dfs))):\n",
    "    df, label = item\n",
    "    vecs = torch.from_numpy(sceptr.calc_vector_representations(df))\n",
    "    vecs = vecs.cuda() if torch.cuda.is_available() else vecs\n",
    "    pred = model(vecs)\n",
    "\n",
    "    if int(round(pred.item(), 0)) == label:\n",
    "        idx = splitidx(df)\n",
    "        nonzeros = torch.nonzero(model.last_weights)[:, 0].tolist()\n",
    "        ws = model.last_weights[torch.nonzero(model.last_weights)[:, 0]][:, 0].tolist()\n",
    "        alpha = [(i, model.last_weights[i].item()) for i in nonzeros if i < idx]\n",
    "        betas = [(i - idx, model.last_weights[i].item()) for i in nonzeros if i >= idx]\n",
    "\n",
    "        if not alphafirst(df):\n",
    "            alpha, betas = betas, alpha\n",
    "\n",
    "        if label == 1:\n",
    "            cancer_idx.append((files[i], label, {\"alpha\": alpha, \"beta\": betas}))\n",
    "        else:\n",
    "            control_idx.append((files[i], label, {\"alpha\": alpha, \"beta\": betas}))"
   ]
  },
  {
   "cell_type": "code",
   "execution_count": null,
   "metadata": {},
   "outputs": [],
   "source": [
    "import tidytcells as tt\n",
    "\n",
    "def cleandf(df):\n",
    "    # We enforce the V call and J call to be from Alpha or Beta Chains First\n",
    "    enforce_abv = df[\"v_call\"].str.startswith(\"TRA\") | df[\"v_call\"].str.startswith(\"TRB\") | pd.isna(df[\"v_call\"])\n",
    "    enforce_abj = df[\"j_call\"].str.startswith(\"TRA\") | df[\"j_call\"].str.startswith(\"TRB\") | pd.isna(df[\"j_call\"])\n",
    "    enforce_cdr3_notempty = ~pd.isna(df[\"junction_aa\"])\n",
    "    df = df[enforce_abv & enforce_abj & enforce_cdr3_notempty].copy()\n",
    "    # We then enforce them to be functional\n",
    "    df[\"v_call\"] = df[\"v_call\"].apply(lambda i: tt.tr.standardise(i, enforce_functional = True, suppress_warnings = True) \\\n",
    "        if i is not None else i)\n",
    "\n",
    "    df[\"j_call\"] = df[\"j_call\"].apply(lambda i: tt.tr.standardise(i, enforce_functional = True, suppress_warnings = True) \\\n",
    "        if i is not None else i)\n",
    "    \n",
    "    return df\n",
    "\n",
    "\n",
    "seqfnames = pd.read_csv(\"rds_file_locations/tcrseq_pbmcfnames.csv\")\n",
    "chains = {}\n",
    "nonzero_idx = cancer_idx[:]\n",
    "\n",
    "for file, label, idx in tqdm(nonzero_idx):\n",
    "    if label == 0:\n",
    "        dir = Path.cwd() / \"data\" / \"full-trimmed\" / \"control\"\n",
    "        pat = file.name.replace(\".tsv\", \"\")\n",
    "        raws = list(dir.glob(f\"*{pat}*\"))\n",
    "    else:\n",
    "        patid = file.name.replace(\"_positive.tsv\", \"\")\n",
    "        fname = seqfnames[seqfnames[\"LTX_ID\"] == patid][\"filename\"].tolist()\n",
    "        fname = [i.replace(\".gz\", \"\") for i in fname]\n",
    "        dir = Path.cwd() / \"data\" / \"full-trimmed\" / \"pbmc_cancer\"\n",
    "        raws = [dir / i for i in fname if (dir / i).exists()]\n",
    "    \n",
    "    for raw in raws:\n",
    "        chain = \"alpha\" if \"alpha\" in str(raw) else \"beta\"\n",
    "        \n",
    "        if raw.suffix == \".tsv\":\n",
    "            df = pd.read_csv(raw, delimiter = \"\\t\")\n",
    "            df = df[[\"v_call\", \"j_call\", \"junction_aa\", \"duplicate_count\"]]\n",
    "            df = df.dropna(axis=0, how=\"all\")\n",
    "            df = cleandf(df)\n",
    "        else:\n",
    "            df = pd.read_csv(raw, delimiter = \", \", index_col=None, header=None)\n",
    "            df.columns = [\"junction_aa\", \"duplicate_count\"]\n",
    "            \n",
    "        if file.name not in chains.keys():\n",
    "            chains[file.name] = {}\n",
    "        chains[file.name][chain] = df.iloc[[i[0] for i in idx[chain]]]\n",
    "        chains[file.name][chain][\"prob\"] = [i[1] for i in idx[chain]]\n",
    "        chains[file.name][chain].sort_values(by = [\"prob\"], inplace = True, ascending = False)\n"
   ]
  },
  {
   "cell_type": "code",
   "execution_count": null,
   "metadata": {},
   "outputs": [],
   "source": [
    "fnames = list(chains.keys())\n",
    "chain = \"alpha\"\n",
    "cdr3s = pd.concat([chains[f][chain] for f in fnames])\n",
    "cdr3s.sort_values(by = [\"prob\"], ascending = False).to_csv(\"top-ranking-alphatcrs.csv\")"
   ]
  },
  {
   "cell_type": "code",
   "execution_count": null,
   "metadata": {},
   "outputs": [],
   "source": [
    "fnames = list(chains.keys())\n",
    "chain = \"beta\"\n",
    "cdr3s = pd.concat([chains[f][chain] for f in fnames])\n",
    "cdr3s.sort_values(by = [\"prob\"], ascending = False).to_csv(\"top-ranking-betatcrs.csv\")"
   ]
  },
  {
   "cell_type": "code",
   "execution_count": null,
   "metadata": {},
   "outputs": [],
   "source": [
    "from collections import Counter\n",
    "\n",
    "def visualise(chain):\n",
    "    fnames = list(chains.keys())\n",
    "    vs = sum([chains[f][chain][\"v_call\"].tolist() for f in fnames if \"v_call\" in chains[f][chain].columns], [])\n",
    "    js = sum([chains[f][chain][\"j_call\"].tolist() for f in fnames if \"j_call\" in chains[f][chain].columns], [])\n",
    "    cdr3s = sum([chains[f][chain][\"junction_aa\"].tolist() for f in fnames], [])\n",
    "\n",
    "    print (\"{:30}| {:7}\".format(\"V Call\", \"Repeat\"))\n",
    "    for key, repeats in Counter(vs).items():\n",
    "        print (f\"{key:30}| {repeats:7}\")\n",
    "\n",
    "    print (\"{:30}| {:7}\".format(\"J Call\", \"Repeat\"))\n",
    "    for key, repeats in Counter(js).items():\n",
    "        print (f\"{key:30}| {repeats:7}\")\n",
    "\n",
    "    print (\"\")\n",
    "    cdr3s = list(dict(Counter(cdr3s)).items())\n",
    "    cdr3s.sort(key = lambda x: -x[1])\n",
    "    for key, item in cdr3s:\n",
    "        if item == 1:\n",
    "            break\n",
    "        \n",
    "        print (f\"CDR3: {key}\")\n",
    "        for f in fnames:\n",
    "            if chains[f][chain][\"junction_aa\"].str.contains(key).any():\n",
    "                print (f)\n",
    "                print (chains[f][chain].loc[chains[f][chain][\"junction_aa\"].str.contains(key)])\n",
    "        print (\"\")\n"
   ]
  },
  {
   "cell_type": "code",
   "execution_count": null,
   "metadata": {},
   "outputs": [],
   "source": [
    "visualise(\"alpha\")"
   ]
  },
  {
   "cell_type": "code",
   "execution_count": null,
   "metadata": {},
   "outputs": [],
   "source": [
    "visualise(\"beta\")"
   ]
  },
  {
   "cell_type": "code",
   "execution_count": null,
   "metadata": {},
   "outputs": [],
   "source": []
  }
 ],
 "metadata": {
  "kernelspec": {
   "display_name": "Python 3",
   "language": "python",
   "name": "python3"
  },
  "language_info": {
   "codemirror_mode": {
    "name": "ipython",
    "version": 3
   },
   "file_extension": ".py",
   "mimetype": "text/x-python",
   "name": "python",
   "nbconvert_exporter": "python",
   "pygments_lexer": "ipython3",
   "version": "3.11.7"
  }
 },
 "nbformat": 4,
 "nbformat_minor": 2
}
