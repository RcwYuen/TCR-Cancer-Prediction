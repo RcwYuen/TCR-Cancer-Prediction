{
 "cells": [
  {
   "cell_type": "code",
   "execution_count": 1,
   "metadata": {},
   "outputs": [],
   "source": [
    "from sceptr import sceptr\n",
    "import pandas as pd\n",
    "from src.model import sceptr_unidirectional, load_trained\n",
    "from pathlib import Path\n",
    "import torch\n",
    "import re\n",
    "import warnings\n",
    "import matplotlib.pyplot as plt\n",
    "from tqdm.notebook import tqdm\n",
    "\n",
    "warnings.filterwarnings(\"ignore\")\n",
    "\n",
    "dir = Path.cwd() / \"results\" / \"sceptr\" / \"trained-sceptr-caneval-4\"\n",
    "#pattern = re.compile(r\"eval-set-auc-(.*).csv\")\n",
    "#bestepoch = int(pattern.match(str(list(dir.glob(\"eval-set-auc-*.csv\"))[0].name)).group(1))\n",
    "bestepoch = 49\n",
    "\n",
    "model = dir / f\"Epoch {bestepoch}\" / f\"classifier-{bestepoch}.pth\"\n",
    "model = load_trained(model, sceptr_unidirectional)"
   ]
  },
  {
   "cell_type": "code",
   "execution_count": 2,
   "metadata": {},
   "outputs": [],
   "source": [
    "files = list((Path.cwd() / \"data\" / \"sceptr-eval\").glob(\"**/*.tsv\"))\n",
    "dfs = [(pd.read_csv(i, sep = \"\\t\", dtype = object), int(\"cancer\" in str(i))) for i in files]"
   ]
  },
  {
   "cell_type": "code",
   "execution_count": 3,
   "metadata": {},
   "outputs": [
    {
     "data": {
      "application/vnd.jupyter.widget-view+json": {
       "model_id": "40c39b7c8992407d9408770c0adbbe34",
       "version_major": 2,
       "version_minor": 0
      },
      "text/plain": [
       "  0%|          | 0/19 [00:00<?, ?it/s]"
      ]
     },
     "metadata": {},
     "output_type": "display_data"
    }
   ],
   "source": [
    "def alphafirst(df):\n",
    "    return pd.isna(df.iloc[0]).values[3:].all()\n",
    "\n",
    "def splitidx(df):\n",
    "    return df[pd.isna(df[\"CDR3A\"])].index[0]\n",
    "\n",
    "control_idx = []\n",
    "cancer_idx = []\n",
    "\n",
    "for i, item in tqdm(list(enumerate(dfs))):\n",
    "    df, label = item\n",
    "    vecs = torch.from_numpy(sceptr.calc_vector_representations(df))\n",
    "    vecs = vecs.cuda() if torch.cuda.is_available() else vecs\n",
    "    pred = model(vecs)\n",
    "\n",
    "    if int(round(pred.item(), 0)) == label:\n",
    "        idx = splitidx(df)\n",
    "        nonzeros = torch.nonzero(model.last_weights)[:, 0].tolist()\n",
    "        ws = model.last_weights[torch.nonzero(model.last_weights)[:, 0]][:, 0].tolist()\n",
    "        alpha = [(i, model.last_weights[i].item()) for i in nonzeros if i < idx]\n",
    "        betas = [(i - idx, model.last_weights[i].item()) for i in nonzeros if i >= idx]\n",
    "\n",
    "        if not alphafirst(df):\n",
    "            alpha, betas = betas, alpha\n",
    "\n",
    "        if label == 1:\n",
    "            cancer_idx.append((files[i], label, {\"alpha\": alpha, \"beta\": betas}))\n",
    "        else:\n",
    "            control_idx.append((files[i], label, {\"alpha\": alpha, \"beta\": betas}))"
   ]
  },
  {
   "cell_type": "code",
   "execution_count": 4,
   "metadata": {},
   "outputs": [
    {
     "data": {
      "application/vnd.jupyter.widget-view+json": {
       "model_id": "4f3e528aeb8f440a8ccbfc1a7adbfa18",
       "version_major": 2,
       "version_minor": 0
      },
      "text/plain": [
       "  0%|          | 0/9 [00:00<?, ?it/s]"
      ]
     },
     "metadata": {},
     "output_type": "display_data"
    }
   ],
   "source": [
    "import tidytcells as tt\n",
    "\n",
    "def cleandf(df):\n",
    "    # We enforce the V call and J call to be from Alpha or Beta Chains First\n",
    "    enforce_abv = df[\"v_call\"].str.startswith(\"TRA\") | df[\"v_call\"].str.startswith(\"TRB\") | pd.isna(df[\"v_call\"])\n",
    "    enforce_abj = df[\"j_call\"].str.startswith(\"TRA\") | df[\"j_call\"].str.startswith(\"TRB\") | pd.isna(df[\"j_call\"])\n",
    "    enforce_cdr3_notempty = ~pd.isna(df[\"junction_aa\"])\n",
    "    df = df[enforce_abv & enforce_abj & enforce_cdr3_notempty].copy()\n",
    "    # We then enforce them to be functional\n",
    "    df[\"v_call\"] = df[\"v_call\"].apply(lambda i: tt.tr.standardise(i, enforce_functional = True, suppress_warnings = True) \\\n",
    "        if i is not None else i)\n",
    "\n",
    "    df[\"j_call\"] = df[\"j_call\"].apply(lambda i: tt.tr.standardise(i, enforce_functional = True, suppress_warnings = True) \\\n",
    "        if i is not None else i)\n",
    "    \n",
    "    return df\n",
    "\n",
    "\n",
    "seqfnames = pd.read_csv(\"rds_file_locations/tcrseq_pbmcfnames.csv\")\n",
    "chains = {}\n",
    "nonzero_idx = cancer_idx[:]\n",
    "\n",
    "for file, label, idx in tqdm(nonzero_idx):\n",
    "    if label == 0:\n",
    "        dir = Path.cwd() / \"data\" / \"full-trimmed\" / \"control\"\n",
    "        pat = file.name.replace(\".tsv\", \"\")\n",
    "        raws = list(dir.glob(f\"*{pat}*\"))\n",
    "    else:\n",
    "        patid = file.name.replace(\"_positive.tsv\", \"\")\n",
    "        fname = seqfnames[seqfnames[\"LTX_ID\"] == patid][\"filename\"].tolist()\n",
    "        fname = [i.replace(\".gz\", \"\") for i in fname]\n",
    "        dir = Path.cwd() / \"data\" / \"full-trimmed\" / \"pbmc_cancer\"\n",
    "        raws = [dir / i for i in fname if (dir / i).exists()]\n",
    "    \n",
    "    for raw in raws:\n",
    "        chain = \"alpha\" if \"alpha\" in str(raw) else \"beta\"\n",
    "        \n",
    "        if raw.suffix == \".tsv\":\n",
    "            df = pd.read_csv(raw, delimiter = \"\\t\")\n",
    "            df = df[[\"v_call\", \"j_call\", \"junction_aa\", \"duplicate_count\"]]\n",
    "            df = df.dropna(axis=0, how=\"all\")\n",
    "            df = cleandf(df)\n",
    "        else:\n",
    "            df = pd.read_csv(raw, delimiter = \", \", index_col=None, header=None)\n",
    "            df.columns = [\"junction_aa\", \"duplicate_count\"]\n",
    "            \n",
    "        if file.name not in chains.keys():\n",
    "            chains[file.name] = {}\n",
    "        chains[file.name][chain] = df.iloc[[i[0] for i in idx[chain]]]\n",
    "        chains[file.name][chain][\"prob\"] = [i[1] for i in idx[chain]]\n",
    "        chains[file.name][chain].sort_values(by = [\"prob\"], inplace = True, ascending = False)\n"
   ]
  },
  {
   "cell_type": "code",
   "execution_count": 5,
   "metadata": {},
   "outputs": [],
   "source": [
    "fnames = list(chains.keys())\n",
    "chain = \"alpha\"\n",
    "cdr3s = pd.concat([chains[f][chain] for f in fnames])\n",
    "cdr3s.sort_values(by = [\"prob\"], ascending = False).to_csv(\"top-ranking-alphatcrs.csv\")"
   ]
  },
  {
   "cell_type": "code",
   "execution_count": 6,
   "metadata": {},
   "outputs": [],
   "source": [
    "fnames = list(chains.keys())\n",
    "chain = \"beta\"\n",
    "cdr3s = pd.concat([chains[f][chain] for f in fnames])\n",
    "cdr3s.sort_values(by = [\"prob\"], ascending = False).to_csv(\"top-ranking-betatcrs.csv\")"
   ]
  },
  {
   "cell_type": "code",
   "execution_count": 7,
   "metadata": {},
   "outputs": [],
   "source": [
    "from collections import Counter\n",
    "\n",
    "def visualise(chain):\n",
    "    fnames = list(chains.keys())\n",
    "    vs = sum([chains[f][chain][\"v_call\"].tolist() for f in fnames if \"v_call\" in chains[f][chain].columns], [])\n",
    "    js = sum([chains[f][chain][\"j_call\"].tolist() for f in fnames if \"j_call\" in chains[f][chain].columns], [])\n",
    "    cdr3s = sum([chains[f][chain][\"junction_aa\"].tolist() for f in fnames], [])\n",
    "\n",
    "    print (\"{:30}| {:7}\".format(\"V Call\", \"Repeat\"))\n",
    "    for key, repeats in Counter(vs).items():\n",
    "        print (f\"{key:30}| {repeats:7}\")\n",
    "\n",
    "    print (\"{:30}| {:7}\".format(\"J Call\", \"Repeat\"))\n",
    "    for key, repeats in Counter(js).items():\n",
    "        print (f\"{key:30}| {repeats:7}\")\n",
    "\n",
    "    print (\"\")\n",
    "    cdr3s = list(dict(Counter(cdr3s)).items())\n",
    "    cdr3s.sort(key = lambda x: -x[1])\n",
    "    for key, item in cdr3s:\n",
    "        if item == 1:\n",
    "            break\n",
    "        \n",
    "        print (f\"CDR3: {key}\")\n",
    "        for f in fnames:\n",
    "            if chains[f][chain][\"junction_aa\"].str.contains(key).any():\n",
    "                print (f)\n",
    "                print (chains[f][chain].loc[chains[f][chain][\"junction_aa\"].str.contains(key)])\n",
    "        print (\"\")\n"
   ]
  },
  {
   "cell_type": "code",
   "execution_count": 8,
   "metadata": {},
   "outputs": [
    {
     "name": "stdout",
     "output_type": "stream",
     "text": [
      "V Call                        | Repeat \n",
      "TRAV35                        |      24\n",
      "TRAV27                        |       1\n",
      "TRAV2                         |       1\n",
      "TRAV17                        |       1\n",
      "TRAV38-1                      |       1\n",
      "TRAV38-2/DV8                  |       2\n",
      "TRAV10                        |       1\n",
      "TRAV30                        |       1\n",
      "J Call                        | Repeat \n",
      "TRAJ54                        |      19\n",
      "TRAJ30                        |       1\n",
      "TRAJ32                        |       4\n",
      "TRAJ8                         |       1\n",
      "TRAJ44                        |       1\n",
      "TRAJ47                        |       3\n",
      "TRAJ42                        |       1\n",
      "TRAJ13                        |       1\n",
      "TRAJ29                        |       1\n",
      "\n",
      "CDR3: CAGRGGATNKLIF\n",
      "LTX0672_positive.tsv\n",
      "     v_call  j_call    junction_aa  duplicate_count      prob\n",
      "386  TRAV35  TRAJ32  CAGRGGATNKLIF                1  0.019446\n",
      "LTX1078_positive.tsv\n",
      "     v_call  j_call    junction_aa  duplicate_count      prob\n",
      "351  TRAV35  TRAJ32  CAGRGGATNKLIF                1  0.006871\n",
      "\n"
     ]
    }
   ],
   "source": [
    "visualise(\"alpha\")"
   ]
  },
  {
   "cell_type": "code",
   "execution_count": 9,
   "metadata": {},
   "outputs": [
    {
     "name": "stdout",
     "output_type": "stream",
     "text": [
      "V Call                        | Repeat \n",
      "TRBV2                         |     292\n",
      "J Call                        | Repeat \n",
      "TRBJ1-3                       |       9\n",
      "TRBJ2-2                       |      73\n",
      "TRBJ1-1                       |      50\n",
      "TRBJ2-4                       |      15\n",
      "TRBJ1-2                       |      52\n",
      "TRBJ2-3                       |      33\n",
      "TRBJ1-4                       |       4\n",
      "TRBJ2-7                       |      19\n",
      "TRBJ2-1                       |      18\n",
      "TRBJ2-5                       |      19\n",
      "\n",
      "CDR3: CASRGLTGNYGYTF\n",
      "LTX0538_positive.tsv\n",
      "     v_call   j_call     junction_aa  duplicate_count      prob\n",
      "1840  TRBV2  TRBJ1-2  CASRGLTGNYGYTF               12  0.040321\n",
      "LTX0648_positive.tsv\n",
      "    v_call   j_call     junction_aa  duplicate_count      prob\n",
      "224  TRBV2  TRBJ1-2  CASRGLTGNYGYTF                2  0.043343\n",
      "LTX0672_positive.tsv\n",
      "     v_call   j_call     junction_aa  duplicate_count      prob\n",
      "3172  TRBV2  TRBJ1-2  CASRGLTGNYGYTF                1  0.042006\n",
      "LTX0674_positive.tsv\n",
      "     v_call   j_call     junction_aa  duplicate_count      prob\n",
      "3206  TRBV2  TRBJ1-2  CASRGLTGNYGYTF               11  0.030801\n",
      "\n",
      "CDR3: CAGQTGGGGHTGELFF\n",
      "LTX0474_positive.tsv\n",
      "      v_call   j_call       junction_aa  duplicate_count      prob\n",
      "14979  TRBV2  TRBJ2-2  CAGQTGGGGHTGELFF                2  0.029733\n",
      "4560   TRBV2  TRBJ2-2  CAGQTGGGGHTGELFF                1  0.029733\n",
      "\n",
      "CDR3: CATSEIQGGDRTTIYF\n",
      "LTX0474_positive.tsv\n",
      "      v_call   j_call       junction_aa  duplicate_count      prob\n",
      "11183  TRBV2  TRBJ1-3  CATSEIQGGDRTTIYF                1  0.028763\n",
      "9229   TRBV2  TRBJ1-3  CATSEIQGGDRTTIYF              161  0.028763\n",
      "\n",
      "CDR3: CASRQGENTGELFF\n",
      "LTX0538_positive.tsv\n",
      "    v_call   j_call     junction_aa  duplicate_count      prob\n",
      "783  TRBV2  TRBJ2-2  CASRQGENTGELFF                1  0.082592\n",
      "LTX0648_positive.tsv\n",
      "    v_call   j_call     junction_aa  duplicate_count      prob\n",
      "998  TRBV2  TRBJ2-2  CASRQGENTGELFF                1  0.085613\n",
      "\n",
      "CDR3: CASSFRGGADEGYTF\n",
      "LTX0538_positive.tsv\n",
      "     v_call   j_call      junction_aa  duplicate_count      prob\n",
      "1925  TRBV2  TRBJ1-2  CASSFRGGADEGYTF               16  0.043844\n",
      "LTX0674_positive.tsv\n",
      "     v_call   j_call      junction_aa  duplicate_count      prob\n",
      "4677  TRBV2  TRBJ1-2  CASSFRGGADEGYTF               32  0.034325\n",
      "\n",
      "CDR3: CASSGPLLTGELFF\n",
      "LTX0538_positive.tsv\n",
      "     v_call   j_call     junction_aa  duplicate_count      prob\n",
      "1478  TRBV2  TRBJ2-2  CASSGPLLTGELFF                1  0.019762\n",
      "LTX0648_positive.tsv\n",
      "    v_call   j_call     junction_aa  duplicate_count      prob\n",
      "717  TRBV2  TRBJ2-2  CASSGPLLTGELFF                1  0.022783\n",
      "\n",
      "CDR3: CASNLGQGDTGELFF\n",
      "LTX0648_positive.tsv\n",
      "     v_call   j_call      junction_aa  duplicate_count      prob\n",
      "3728  TRBV2  TRBJ2-2  CASNLGQGDTGELFF                1  0.049302\n",
      "LTX0674_positive.tsv\n",
      "     v_call   j_call      junction_aa  duplicate_count      prob\n",
      "3908  TRBV2  TRBJ2-2  CASNLGQGDTGELFF                1  0.036761\n",
      "\n",
      "CDR3: CASGGTGETGELFF\n",
      "LTX0648_positive.tsv\n",
      "    v_call   j_call     junction_aa  duplicate_count      prob\n",
      "920  TRBV2  TRBJ2-2  CASGGTGETGELFF                7  0.040601\n",
      "LTX0674_positive.tsv\n",
      "    v_call   j_call     junction_aa  duplicate_count      prob\n",
      "988  TRBV2  TRBJ2-2  CASGGTGETGELFF                1  0.028059\n",
      "\n",
      "CDR3: CASSEVAGTDTQYF\n",
      "LTX0672_positive.tsv\n",
      "     v_call   j_call     junction_aa  duplicate_count      prob\n",
      "3646  TRBV2  TRBJ2-3  CASSEVAGTDTQYF                1  0.041497\n",
      "3174  TRBV2  TRBJ2-3  CASSEVAGTDTQYF                2  0.041497\n",
      "\n"
     ]
    }
   ],
   "source": [
    "visualise(\"beta\")"
   ]
  },
  {
   "cell_type": "code",
   "execution_count": null,
   "metadata": {},
   "outputs": [],
   "source": []
  }
 ],
 "metadata": {
  "kernelspec": {
   "display_name": "Python 3",
   "language": "python",
   "name": "python3"
  },
  "language_info": {
   "codemirror_mode": {
    "name": "ipython",
    "version": 3
   },
   "file_extension": ".py",
   "mimetype": "text/x-python",
   "name": "python",
   "nbconvert_exporter": "python",
   "pygments_lexer": "ipython3",
   "version": "3.11.7"
  }
 },
 "nbformat": 4,
 "nbformat_minor": 2
}
