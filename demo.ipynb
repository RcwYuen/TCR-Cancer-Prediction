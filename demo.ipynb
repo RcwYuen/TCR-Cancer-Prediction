{
 "cells": [
  {
   "cell_type": "code",
   "execution_count": 1,
   "metadata": {},
   "outputs": [
    {
     "name": "stderr",
     "output_type": "stream",
     "text": [
      "c:\\Users\\rcwyuen\\OneDrive - University College London\\Academic\\Year 4 2023-2024\\Y4 COMP0138 Dissertation\\Code\\TCR-Cancer-Prediction\\tcr-cancer\\Lib\\site-packages\\transformers\\utils\\generic.py:441: UserWarning: torch.utils._pytree._register_pytree_node is deprecated. Please use torch.utils._pytree.register_pytree_node instead.\n",
      "  _torch_pytree._register_pytree_node(\n"
     ]
    }
   ],
   "source": [
    "from utils import extract_train_test\n",
    "from pathlib import Path\n",
    "import pandas as pd\n",
    "from model import load_trained, unidirectional, oneinner\n",
    "from transformers import AutoModelForMaskedLM, AutoTokenizer\n",
    "import torch\n",
    "\n",
    "path = Path.cwd() / \"good-results\" / \"trained-unidirectional\" / \"unidirectional.log\"\n",
    "trainset, testset = extract_train_test.train_test_datasets(path)"
   ]
  },
  {
   "cell_type": "code",
   "execution_count": 2,
   "metadata": {},
   "outputs": [
    {
     "name": "stderr",
     "output_type": "stream",
     "text": [
      "c:\\Users\\rcwyuen\\OneDrive - University College London\\Academic\\Year 4 2023-2024\\Y4 COMP0138 Dissertation\\Code\\TCR-Cancer-Prediction\\tcr-cancer\\Lib\\site-packages\\transformers\\utils\\generic.py:309: UserWarning: torch.utils._pytree._register_pytree_node is deprecated. Please use torch.utils._pytree.register_pytree_node instead.\n",
      "  _torch_pytree._register_pytree_node(\n"
     ]
    },
    {
     "data": {
      "text/plain": [
       "unidirectional(\n",
       "  (scoring_linear1): Linear(in_features=768, out_features=1, bias=True)\n",
       "  (sparsemax): Sparsemax(dim=0)\n",
       "  (classifying_linear1): Linear(in_features=768, out_features=1, bias=True)\n",
       "  (sig): Sigmoid()\n",
       ")"
      ]
     },
     "execution_count": 2,
     "metadata": {},
     "output_type": "execute_result"
    }
   ],
   "source": [
    "modelpath = Path.cwd() / \"good-results\" / \"trained-unidirectional\" / \"Epoch 20\" / \"classifier-20.pth\"\n",
    "model = load_trained(modelpath, unidirectional)\n",
    "bertmodel = AutoModelForMaskedLM.from_pretrained(\"model/mlm-only/model\").bert\n",
    "tokenizer = AutoTokenizer.from_pretrained(\"model/mlm-only/tokenizer\")\n",
    "bertmodel = bertmodel.cuda() if torch.cuda.is_available() else bertmodel\n",
    "\n",
    "model.eval()\n",
    "bertmodel.eval()\n",
    "model"
   ]
  },
  {
   "cell_type": "code",
   "execution_count": 12,
   "metadata": {},
   "outputs": [],
   "source": [
    "filepath = Path(trainset[-2])"
   ]
  },
  {
   "cell_type": "code",
   "execution_count": 13,
   "metadata": {},
   "outputs": [
    {
     "data": {
      "text/plain": [
       "0           C A S S Q D L G L S P L H F\n",
       "1         C A S S L G G R R A N V L T F\n",
       "2       C A S S P R L R G G Q E T Q Y F\n",
       "3       C A S S P R R G L A G Y E Q Y F\n",
       "4               C A S R P G N S P L H F\n",
       "                     ...               \n",
       "9040            C S V F L G P H L Q Y F\n",
       "9041      C S V E R G Q I D F N E Q F F\n",
       "9042    C A S S S D R P E S Y N E Q F F\n",
       "9043        C S A I G G T G V D E Q Y F\n",
       "9044    C A S S P P G I L Q S Y E Q Y F\n",
       "Length: 9045, dtype: object"
      ]
     },
     "execution_count": 13,
     "metadata": {},
     "output_type": "execute_result"
    }
   ],
   "source": [
    "if filepath.suffix == \".tsv\":\n",
    "    df = pd.read_csv(filepath, delimiter=\"\\t\")[[\"junction_aa\"]]\n",
    "else:\n",
    "    df = pd.read_csv(filepath, header=None, usecols=[0])\n",
    "\n",
    "df = df.dropna(axis=0, how=\"all\")\n",
    "df = df.map(lambda x: \" \".join(list(x)))\n",
    "df = df.apply(lambda x: \"|\".join(x), axis = 1)\n",
    "df"
   ]
  },
  {
   "cell_type": "code",
   "execution_count": 14,
   "metadata": {},
   "outputs": [
    {
     "data": {
      "application/vnd.jupyter.widget-view+json": {
       "model_id": "bb0ed1533980423eb805bfe4743288cd",
       "version_major": 2,
       "version_minor": 0
      },
      "text/plain": [
       "  0%|          | 0/71 [00:00<?, ?it/s]"
      ]
     },
     "metadata": {},
     "output_type": "display_data"
    },
    {
     "name": "stdout",
     "output_type": "stream",
     "text": [
      "torch.Size([9045, 768]) (9045,)\n"
     ]
    }
   ],
   "source": [
    "from utils.dataloader import TCRloader\n",
    "from tqdm.notebook import tqdm\n",
    "import numpy as np\n",
    "\n",
    "pattcr_loader = torch.utils.data.DataLoader(\n",
    "    TCRloader(None, df).data,\n",
    "    batch_size=128,\n",
    "    shuffle=True,\n",
    ")\n",
    "\n",
    "all_embeddings = []\n",
    "for tcr in tqdm(pattcr_loader):\n",
    "    inputs = tokenizer(tcr, return_tensors=\"pt\", padding=True)\n",
    "\n",
    "    if torch.cuda.is_available():\n",
    "        inputs = {k: v.to(\"cuda\") for k, v in inputs.items()}\n",
    "\n",
    "    embeddings = bertmodel(**inputs).last_hidden_state\n",
    "    embeddings = torch.mean(embeddings, dim=1)\n",
    "    all_embeddings = all_embeddings + embeddings.tolist()\n",
    "\n",
    "all_embeddings = torch.from_numpy(np.array(all_embeddings)).to(torch.float32)\n",
    "all_embeddings = all_embeddings.cuda() if torch.cuda.is_available() else all_embeddings\n",
    "print (all_embeddings.shape, df.shape)\n"
   ]
  },
  {
   "cell_type": "code",
   "execution_count": 15,
   "metadata": {},
   "outputs": [
    {
     "data": {
      "text/plain": [
       "array([ 0.05796139, -0.692268  , -0.17248143,  0.68266463,  1.0991328 ],\n",
       "      dtype=float32)"
      ]
     },
     "execution_count": 15,
     "metadata": {},
     "output_type": "execute_result"
    }
   ],
   "source": [
    "all_embeddings[0].squeeze().cpu().detach().numpy()[:5:]"
   ]
  },
  {
   "cell_type": "code",
   "execution_count": 16,
   "metadata": {},
   "outputs": [
    {
     "name": "stdout",
     "output_type": "stream",
     "text": [
      "Cancer Probability: 0.9040498733520508\n",
      "True Label        : 1\n"
     ]
    }
   ],
   "source": [
    "prediction = model(all_embeddings)\n",
    "truelabel = int(\"cancer\" in str(filepath))\n",
    "\n",
    "print (f\"Cancer Probability: {prediction.item()}\")\n",
    "print (f\"True Label        : {truelabel}\")"
   ]
  },
  {
   "cell_type": "code",
   "execution_count": 17,
   "metadata": {},
   "outputs": [
    {
     "name": "stdout",
     "output_type": "stream",
     "text": [
      "[-2.003206   0.7738294 -1.894045  ... -0.61249   -0.7744212 -2.2165408]\n"
     ]
    }
   ],
   "source": [
    "scores = model.last_scores.squeeze().cpu().detach().numpy()\n",
    "print (scores)"
   ]
  },
  {
   "cell_type": "code",
   "execution_count": 18,
   "metadata": {},
   "outputs": [
    {
     "name": "stdout",
     "output_type": "stream",
     "text": [
      "[0. 0. 0. ... 0. 0. 0.]\n"
     ]
    }
   ],
   "source": [
    "weights = model.last_weights.squeeze().cpu().detach().numpy()\n",
    "print (weights)"
   ]
  },
  {
   "cell_type": "code",
   "execution_count": 19,
   "metadata": {},
   "outputs": [
    {
     "data": {
      "text/plain": [
       "4"
      ]
     },
     "execution_count": 19,
     "metadata": {},
     "output_type": "execute_result"
    }
   ],
   "source": [
    "np.count_nonzero(weights)"
   ]
  },
  {
   "cell_type": "code",
   "execution_count": 25,
   "metadata": {},
   "outputs": [
    {
     "data": {
      "image/png": "[encoded data removed]",
      "text/plain": [
       "<Figure size 640x480 with 1 Axes>"
      ]
     },
     "metadata": {},
     "output_type": "display_data"
    }
   ],
   "source": [
    "import matplotlib.pyplot as plt\n",
    "\n",
    "plt.scatter([0 for i in range(np.count_nonzero(weights))], weights[np.where(weights != 0)], marker = \"x\")\n",
    "\n",
    "for i in np.where(weights != 0)[0]:\n",
    "    plt.annotate(df.iloc[i].replace(\" \", \"\"), (0.001, weights[i]))\n",
    "\n",
    "plt.show()"
   ]
  },
  {
   "cell_type": "code",
   "execution_count": null,
   "metadata": {},
   "outputs": [],
   "source": []
  }
 ],
 "metadata": {
  "kernelspec": {
   "display_name": "Python 3",
   "language": "python",
   "name": "python3"
  },
  "language_info": {
   "codemirror_mode": {
    "name": "ipython",
    "version": 3
   },
   "file_extension": ".py",
   "mimetype": "text/x-python",
   "name": "python",
   "nbconvert_exporter": "python",
   "pygments_lexer": "ipython3",
   "version": "3.11.7"
  }
 },
 "nbformat": 4,
 "nbformat_minor": 2
}
