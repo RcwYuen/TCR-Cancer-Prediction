{
 "cells": [
  {
   "cell_type": "code",
   "execution_count": 1,
   "metadata": {},
   "outputs": [],
   "source": [
    "# Load model directly\n",
    "import torch\n",
    "from transformers import AutoTokenizer, AutoModelForSequenceClassification\n",
    "\n",
    "tokenizer = AutoTokenizer.from_pretrained(\"wukevin/tcr-bert\")\n",
    "model = AutoModelForSequenceClassification.from_pretrained(\"wukevin/tcr-bert\")"
   ]
  },
  {
   "cell_type": "code",
   "execution_count": 2,
   "metadata": {},
   "outputs": [],
   "source": [
    "encoded_input = tokenizer.encode_plus(\"I like you. I love you\", return_tensors = \"pt\")\n",
    "with torch.no_grad():\n",
    "    output = model(**encoded_input)\n",
    "\n",
    "# last_hidden_states = output.last_hidden_state"
   ]
  },
  {
   "cell_type": "code",
   "execution_count": 3,
   "metadata": {},
   "outputs": [],
   "source": [
    "logits = output.logits\n",
    "probs = torch.softmax(logits, dim = 1)\n",
    "predicted_class = torch.argmax(probs, dim = 1)"
   ]
  },
  {
   "cell_type": "code",
   "execution_count": 4,
   "metadata": {},
   "outputs": [
    {
     "data": {
      "text/plain": [
       "tensor([16])"
      ]
     },
     "execution_count": 4,
     "metadata": {},
     "output_type": "execute_result"
    }
   ],
   "source": [
    "predicted_class"
   ]
  },
  {
   "cell_type": "code",
   "execution_count": 5,
   "metadata": {},
   "outputs": [
    {
     "name": "stdout",
     "output_type": "stream",
     "text": [
      "[{'label': 'TPGPGVRYPL', 'score': 0.4493970572948456}, {'label': 'GILGFVFTL', 'score': 0.1271347552537918}, {'label': 'FPRPWLHGL', 'score': 0.07400770485401154}, {'label': 'LLWNGPMAV', 'score': 0.03500761836767197}, {'label': 'TPQDLNTML', 'score': 0.027008509263396263}, {'label': 'EIYKRWII', 'score': 0.018733853474259377}, {'label': 'HSKKKCDEL', 'score': 0.018440473824739456}, {'label': 'TQGYFPDWQNY', 'score': 0.018129343166947365}, {'label': 'NLVPMVATV', 'score': 0.01716885156929493}, {'label': 'PQPELPYPQPE', 'score': 0.017030412331223488}]\n"
     ]
    }
   ],
   "source": [
    "# Use a pipeline as a high-level helper\n",
    "from transformers import pipeline\n",
    "\n",
    "pipe = pipeline(\"text-classification\", model=\"wukevin/tcr-bert\")\n",
    "print (pipe(\"I like you. I love you\", top_k = 10))"
   ]
  },
  {
   "cell_type": "code",
   "execution_count": 6,
   "metadata": {},
   "outputs": [],
   "source": [
    "pipe.save_pretrained(\"pipe\")"
   ]
  },
  {
   "cell_type": "code",
   "execution_count": null,
   "metadata": {},
   "outputs": [],
   "source": []
  }
 ],
 "metadata": {
  "kernelspec": {
   "display_name": "Python 3",
   "language": "python",
   "name": "python3"
  },
  "language_info": {
   "codemirror_mode": {
    "name": "ipython",
    "version": 3
   },
   "file_extension": ".py",
   "mimetype": "text/x-python",
   "name": "python",
   "nbconvert_exporter": "python",
   "pygments_lexer": "ipython3",
   "version": "3.11.7"
  }
 },
 "nbformat": 4,
 "nbformat_minor": 2
}
