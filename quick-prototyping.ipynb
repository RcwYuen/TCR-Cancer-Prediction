{
 "cells": [
  {
   "cell_type": "code",
   "execution_count": 4,
   "metadata": {},
   "outputs": [],
   "source": [
    "import torch\n",
    "from sparsemax import Sparsemax\n",
    "import pandas as pd\n",
    "import numpy as np\n",
    "from tqdm.notebook import tqdm\n",
    "import matplotlib.pyplot as plt\n",
    "from model import classifier\n",
    "\n",
    "\n",
    "df_pos = pd.read_parquet(\"dcr_alpha_LTX051_LN1_M13_a-LTX051_LN1_M13_b.parquet\")\n",
    "df_neg = pd.read_parquet(\"dcr_HCW_0003_6M_1_alpha.parquet\")\n"
   ]
  },
  {
   "cell_type": "code",
   "execution_count": 5,
   "metadata": {},
   "outputs": [
    {
     "name": "stdout",
     "output_type": "stream",
     "text": [
      "Couldn't find program: '--false'\n"
     ]
    }
   ],
   "source": [
    "%%script --false\n",
    "embeddings_pos = torch.from_numpy(df_pos.values).to(torch.float32)\n",
    "embeddings_neg = torch.from_numpy(df_neg.values).to(torch.float32)\n",
    "model = classifier()\n",
    "criterion = torch.nn.MSELoss()\n",
    "optim = torch.optim.Adam(model.parameters(), lr = 1e-3)\n",
    "\n",
    "pos_trainloss = []\n",
    "neg_trainloss = []\n",
    "train_loss = []\n",
    "\n",
    "for i in tqdm(range(20)):\n",
    "    ypred = model(embeddings_pos)\n",
    "    loss_pos = criterion(torch.ones((1, 1)), ypred)\n",
    "    pos_trainloss.append(loss_pos.data.tolist())\n",
    "\n",
    "    ypred = model(embeddings_neg)\n",
    "    loss_neg = criterion(torch.zeros((1, 1)), ypred)\n",
    "    neg_trainloss.append(loss_neg.data.tolist())\n",
    "\n",
    "    loss = loss_pos + loss_neg\n",
    "    train_loss.append(loss.data.tolist())\n",
    "\n",
    "    optim.zero_grad()\n",
    "    loss.backward()\n",
    "    optim.step()\n",
    "\n",
    "plt.scatter([i for i in range(len(train_loss))], train_loss, marker = \".\", c = \"b\")\n",
    "plt.scatter([i for i in range(len(pos_trainloss))], pos_trainloss, marker = \".\", c = \"r\")\n",
    "plt.scatter([i for i in range(len(neg_trainloss))], neg_trainloss, marker = \".\", c = \"g\")\n",
    "plt.show()"
   ]
  },
  {
   "cell_type": "code",
   "execution_count": 6,
   "metadata": {},
   "outputs": [
    {
     "data": {
      "application/vnd.jupyter.widget-view+json": {
       "model_id": "71053424f6044eb88a9fc6e03a3e85c1",
       "version_major": 2,
       "version_minor": 0
      },
      "text/plain": [
       "  0%|          | 0/20 [00:00<?, ?it/s]"
      ]
     },
     "metadata": {},
     "output_type": "display_data"
    },
    {
     "ename": "RuntimeError",
     "evalue": "CUDA error: device-side assert triggered\nCUDA kernel errors might be asynchronously reported at some other API call, so the stacktrace below might be incorrect.\nFor debugging consider passing CUDA_LAUNCH_BLOCKING=1.\nCompile with `TORCH_USE_CUDA_DSA` to enable device-side assertions.\n",
     "output_type": "error",
     "traceback": [
      "\u001b[1;31m---------------------------------------------------------------------------\u001b[0m",
      "\u001b[1;31mRuntimeError\u001b[0m                              Traceback (most recent call last)",
      "Cell \u001b[1;32mIn[6], line 14\u001b[0m\n\u001b[0;32m     12\u001b[0m ypred \u001b[38;5;241m=\u001b[39m model(embeddings_pos)\n\u001b[0;32m     13\u001b[0m loss_pos \u001b[38;5;241m=\u001b[39m criterion(torch\u001b[38;5;241m.\u001b[39mones((\u001b[38;5;241m1\u001b[39m, \u001b[38;5;241m1\u001b[39m))\u001b[38;5;241m.\u001b[39mcuda(), ypred)\n\u001b[1;32m---> 14\u001b[0m pos_trainloss\u001b[38;5;241m.\u001b[39mappend(\u001b[43mloss_pos\u001b[49m\u001b[38;5;241;43m.\u001b[39;49m\u001b[43mdata\u001b[49m\u001b[38;5;241;43m.\u001b[39;49m\u001b[43mtolist\u001b[49m\u001b[43m(\u001b[49m\u001b[43m)\u001b[49m)\n\u001b[0;32m     16\u001b[0m ypred \u001b[38;5;241m=\u001b[39m model(embeddings_neg)\n\u001b[0;32m     17\u001b[0m loss_neg \u001b[38;5;241m=\u001b[39m criterion(torch\u001b[38;5;241m.\u001b[39mzeros((\u001b[38;5;241m1\u001b[39m, \u001b[38;5;241m1\u001b[39m))\u001b[38;5;241m.\u001b[39mcuda(), ypred)\n",
      "\u001b[1;31mRuntimeError\u001b[0m: CUDA error: device-side assert triggered\nCUDA kernel errors might be asynchronously reported at some other API call, so the stacktrace below might be incorrect.\nFor debugging consider passing CUDA_LAUNCH_BLOCKING=1.\nCompile with `TORCH_USE_CUDA_DSA` to enable device-side assertions.\n"
     ]
    }
   ],
   "source": [
    "embeddings_pos = torch.from_numpy(df_pos.values).to(torch.float32).cuda()\n",
    "embeddings_neg = torch.from_numpy(df_neg.values).to(torch.float32).cuda()\n",
    "model = classifier().cuda()\n",
    "criterion = torch.nn.BCELoss()\n",
    "optim = torch.optim.Adam(model.parameters(), lr = 1e-3)\n",
    "\n",
    "pos_trainloss = []\n",
    "neg_trainloss = []\n",
    "train_loss = []\n",
    "\n",
    "for i in tqdm(range(20)):\n",
    "    ypred = model(embeddings_pos)\n",
    "    loss_pos = criterion(torch.ones((1, 1)).cuda(), ypred)\n",
    "    pos_trainloss.append(loss_pos.data.tolist())\n",
    "\n",
    "    ypred = model(embeddings_neg)\n",
    "    loss_neg = criterion(torch.zeros((1, 1)).cuda(), ypred)\n",
    "    neg_trainloss.append(loss_neg.data.tolist())\n",
    "\n",
    "    loss = loss_pos + loss_neg\n",
    "    train_loss.append(loss.data.tolist())\n",
    "\n",
    "    optim.zero_grad()\n",
    "    loss.backward()\n",
    "    optim.step()\n",
    "\n",
    "plt.scatter([i for i in range(len(train_loss))], train_loss, marker = \".\", c = \"b\")\n",
    "plt.scatter([i for i in range(len(pos_trainloss))], pos_trainloss, marker = \".\", c = \"r\")\n",
    "plt.scatter([i for i in range(len(neg_trainloss))], neg_trainloss, marker = \".\", c = \"g\")\n",
    "plt.show()"
   ]
  },
  {
   "cell_type": "code",
   "execution_count": null,
   "metadata": {},
   "outputs": [],
   "source": []
  }
 ],
 "metadata": {
  "kernelspec": {
   "display_name": "tcr-cancer",
   "language": "python",
   "name": "python3"
  },
  "language_info": {
   "codemirror_mode": {
    "name": "ipython",
    "version": 3
   },
   "file_extension": ".py",
   "mimetype": "text/x-python",
   "name": "python",
   "nbconvert_exporter": "python",
   "pygments_lexer": "ipython3",
   "version": "3.11.7"
  }
 },
 "nbformat": 4,
 "nbformat_minor": 2
}
