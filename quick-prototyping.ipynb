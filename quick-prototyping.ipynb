{
 "cells": [
  {
   "cell_type": "code",
   "execution_count": 32,
   "metadata": {},
   "outputs": [
    {
     "data": {
      "application/vnd.jupyter.widget-view+json": {
       "model_id": "c4241bd39e3c4b7e9996ea57250d529d",
       "version_major": 2,
       "version_minor": 0
      },
      "text/plain": [
       "  0%|          | 0/20 [00:00<?, ?it/s]"
      ]
     },
     "metadata": {},
     "output_type": "display_data"
    },
    {
     "name": "stdout",
     "output_type": "stream",
     "text": [
      "tensor(2.0111)\n",
      "tensor(1.0027)\n",
      "tensor(-0.3534)\n",
      "tensor(-2.2042)\n",
      "tensor(-4.6959)\n",
      "tensor(-7.9026)\n",
      "tensor(-11.9291)\n",
      "tensor(-16.8772)\n",
      "tensor(-22.8419)\n",
      "tensor(-29.9088)\n",
      "tensor(-38.1996)\n",
      "tensor(-47.8263)\n",
      "tensor(-58.8850)\n",
      "tensor(-71.4912)\n",
      "tensor(-85.7707)\n",
      "tensor(-101.8778)\n",
      "tensor(-119.9338)\n",
      "tensor(-140.0650)\n",
      "tensor(-162.4410)\n",
      "tensor(-187.2261)\n"
     ]
    },
    {
     "data": {
      "image/png": "[encoded data removed]",
      "text/plain": [
       "<Figure size 640x480 with 1 Axes>"
      ]
     },
     "metadata": {},
     "output_type": "display_data"
    }
   ],
   "source": [
    "import torch\n",
    "from sparsemax import Sparsemax\n",
    "import pandas as pd\n",
    "import numpy as np\n",
    "from tqdm.notebook import tqdm\n",
    "import matplotlib.pyplot as plt\n",
    "\n",
    "class classifier(torch.nn.Module):\n",
    "    def __init__(self):\n",
    "        super(classifier, self).__init__()\n",
    "        self.last_scores = None\n",
    "        self.last_weights = None\n",
    "\n",
    "        self.scoring_linear1 = torch.nn.Linear(768, 512)\n",
    "        self.scoring_linear2 = torch.nn.Linear(512, 128)\n",
    "        self.scoring_linear3 = torch.nn.Linear(128, 1)\n",
    "        \n",
    "        self.relu = torch.nn.LeakyReLU(inplace = False)\n",
    "        self.sparsemax = Sparsemax(dim = 0)\n",
    "\n",
    "        self.classifying_linear1 = torch.nn.Linear(768, 512)\n",
    "        self.classifying_linear2 = torch.nn.Linear(512, 128)\n",
    "        self.classifying_linear3 = torch.nn.Linear(128, 1)\n",
    "\n",
    "    def forward(self, x):\n",
    "        self.last_scores = self.scoring_linear3(\n",
    "            self.relu(self.scoring_linear2(\n",
    "            self.relu(self.scoring_linear1(x))\n",
    "            ))\n",
    "        )\n",
    "\n",
    "        # There appears to be a bug with the Sparsemax function.\n",
    "        # Sparsemax only handles 2-dim tensors, therefore there is a code\n",
    "        # that does:\n",
    "        # input = input.transpose(0, self.dim)\n",
    "        # which means if I have dim = 0, no transpose will happen, therefore I\n",
    "        # need to transpose the scores first and transpose it back.\n",
    "        self.last_weights = self.sparsemax(self.last_scores.T).T\n",
    "        agg_out = torch.sum(self.last_weights * x, dim = 0, keepdim = True)\n",
    "\n",
    "        result = self.classifying_linear3(\n",
    "            self.relu(self.classifying_linear2(\n",
    "            self.relu(self.classifying_linear1(agg_out))\n",
    "            ))\n",
    "        )\n",
    "        return result\n",
    "\n",
    "df_pos = pd.read_parquet(\"dcr_alpha_LTX051_LN1_M13_a-LTX051_LN1_M13_b.parquet\")\n",
    "df_neg = pd.read_parquet(\"dcr_HCW_0003_6M_1_alpha.parquet\")\n",
    "embeddings_pos = torch.from_numpy(df_pos.values).to(torch.float32)\n",
    "embeddings_neg = torch.from_numpy(df_neg.values).to(torch.float32)\n",
    "model = classifier()\n",
    "criterion = torch.nn.BCEWithLogitsLoss()\n",
    "optim = torch.optim.Adam(model.parameters(), lr = 1e-3)\n",
    "\n",
    "pos_trainloss = []\n",
    "neg_trainloss = []\n",
    "train_loss = []\n",
    "\n",
    "for i in tqdm(range(20)):\n",
    "    ypred = model(embeddings_pos)\n",
    "    loss_pos = criterion(torch.ones((1, 1)), ypred)\n",
    "    pos_trainloss.append(loss_pos.data.tolist())\n",
    "\n",
    "    y_pred = model(embeddings_neg)\n",
    "    loss_neg = criterion(torch.zeros((1, 1)), ypred)\n",
    "    neg_trainloss.append(loss_pos.data.tolist())\n",
    "\n",
    "\n",
    "    loss = loss_pos + loss_neg\n",
    "    print (loss.data)\n",
    "    train_loss.append(loss.data.tolist())\n",
    "\n",
    "    optim.zero_grad()\n",
    "    loss.backward()\n",
    "    optim.step()\n",
    "\n",
    "plt.scatter([i for i in range(len(train_loss))], train_loss, marker = \".\")\n",
    "plt.show()"
   ]
  },
  {
   "cell_type": "code",
   "execution_count": 33,
   "metadata": {},
   "outputs": [
    {
     "data": {
      "text/plain": [
       "tensor([[0.],\n",
       "        [0.],\n",
       "        [0.],\n",
       "        ...,\n",
       "        [0.],\n",
       "        [0.],\n",
       "        [0.]], grad_fn=<PermuteBackward0>)"
      ]
     },
     "execution_count": 33,
     "metadata": {},
     "output_type": "execute_result"
    }
   ],
   "source": [
    "model.last_weights"
   ]
  },
  {
   "cell_type": "code",
   "execution_count": null,
   "metadata": {},
   "outputs": [],
   "source": []
  }
 ],
 "metadata": {
  "kernelspec": {
   "display_name": "tcr-cancer",
   "language": "python",
   "name": "python3"
  },
  "language_info": {
   "codemirror_mode": {
    "name": "ipython",
    "version": 3
   },
   "file_extension": ".py",
   "mimetype": "text/x-python",
   "name": "python",
   "nbconvert_exporter": "python",
   "pygments_lexer": "ipython3",
   "version": "3.11.7"
  }
 },
 "nbformat": 4,
 "nbformat_minor": 2
}
