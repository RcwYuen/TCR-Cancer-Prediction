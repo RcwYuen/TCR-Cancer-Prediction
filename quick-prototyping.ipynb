{
 "cells": [
  {
   "cell_type": "code",
   "execution_count": 1,
   "metadata": {},
   "outputs": [],
   "source": [
    "import torch\n",
    "from sparsemax import Sparsemax\n",
    "import pandas as pd\n",
    "import numpy as np\n",
    "from tqdm.notebook import tqdm\n",
    "import matplotlib.pyplot as plt\n",
    "\n",
    "class classifier(torch.nn.Module):\n",
    "    def __init__(self):\n",
    "        super(classifier, self).__init__()\n",
    "        self.last_scores = None\n",
    "        self.last_weights = None\n",
    "\n",
    "        self.scoring_linear1 = torch.nn.Linear(768, 1)\n",
    "        self.relu = torch.nn.ReLU(inplace = False)\n",
    "        self.sparsemax = Sparsemax(dim = 0)\n",
    "\n",
    "        self.classifying_linear1 = torch.nn.Linear(768, 1)        \n",
    "        self.sig = torch.nn.Sigmoid()\n",
    "\n",
    "    def forward(self, x):\n",
    "        self.last_scores = self.scoring_linear1(x)\n",
    "        # There appears to be a bug with the Sparsemax function.\n",
    "        # Sparsemax only handles 2-dim tensors, therefore there is a code\n",
    "        # that does:\n",
    "        # input = input.transpose(0, self.dim)\n",
    "        # which means if I have dim = 0, no transpose will happen, therefore I\n",
    "        # need to transpose the scores first and transpose it back.\n",
    "        self.last_weights = self.sparsemax(self.last_scores.T).T\n",
    "        agg_out = torch.sum(self.last_weights * x, dim = 0, keepdim = True)\n",
    "\n",
    "        result = self.classifying_linear1(agg_out)\n",
    "        return self.sig(result)\n",
    "\n",
    "df_pos = pd.read_parquet(\"dcr_alpha_LTX051_LN1_M13_a-LTX051_LN1_M13_b.parquet\")\n",
    "df_neg = pd.read_parquet(\"dcr_HCW_0003_6M_1_alpha.parquet\")\n"
   ]
  },
  {
   "cell_type": "code",
   "execution_count": 2,
   "metadata": {},
   "outputs": [
    {
     "name": "stdout",
     "output_type": "stream",
     "text": [
      "Couldn't find program: '--false'\n"
     ]
    }
   ],
   "source": [
    "%%script --false\n",
    "embeddings_pos = torch.from_numpy(df_pos.values).to(torch.float32)\n",
    "embeddings_neg = torch.from_numpy(df_neg.values).to(torch.float32)\n",
    "model = classifier()\n",
    "criterion = torch.nn.MSELoss()\n",
    "optim = torch.optim.Adam(model.parameters(), lr = 1e-3)\n",
    "\n",
    "pos_trainloss = []\n",
    "neg_trainloss = []\n",
    "train_loss = []\n",
    "\n",
    "for i in tqdm(range(20)):\n",
    "    ypred = model(embeddings_pos)\n",
    "    loss_pos = criterion(torch.ones((1, 1)), ypred)\n",
    "    pos_trainloss.append(loss_pos.data.tolist())\n",
    "\n",
    "    ypred = model(embeddings_neg)\n",
    "    loss_neg = criterion(torch.zeros((1, 1)), ypred)\n",
    "    neg_trainloss.append(loss_neg.data.tolist())\n",
    "\n",
    "    loss = loss_pos + loss_neg\n",
    "    train_loss.append(loss.data.tolist())\n",
    "\n",
    "    optim.zero_grad()\n",
    "    loss.backward()\n",
    "    optim.step()\n",
    "\n",
    "plt.scatter([i for i in range(len(train_loss))], train_loss, marker = \".\", c = \"b\")\n",
    "plt.scatter([i for i in range(len(pos_trainloss))], pos_trainloss, marker = \".\", c = \"r\")\n",
    "plt.scatter([i for i in range(len(neg_trainloss))], neg_trainloss, marker = \".\", c = \"g\")\n",
    "plt.show()"
   ]
  },
  {
   "cell_type": "code",
   "execution_count": 3,
   "metadata": {},
   "outputs": [
    {
     "data": {
      "application/vnd.jupyter.widget-view+json": {
       "model_id": "043504c2e7fa4ee39609b3b7fa21b050",
       "version_major": 2,
       "version_minor": 0
      },
      "text/plain": [
       "  0%|          | 0/20 [00:00<?, ?it/s]"
      ]
     },
     "metadata": {},
     "output_type": "display_data"
    },
    {
     "data": {
      "image/png": "[encoded data removed]",
      "text/plain": [
       "<Figure size 640x480 with 1 Axes>"
      ]
     },
     "metadata": {},
     "output_type": "display_data"
    }
   ],
   "source": [
    "embeddings_pos = torch.from_numpy(df_pos.values).to(torch.float32).cuda()\n",
    "embeddings_neg = torch.from_numpy(df_neg.values).to(torch.float32).cuda()\n",
    "model = classifier().cuda()\n",
    "criterion = torch.nn.MSELoss()\n",
    "optim = torch.optim.Adam(model.parameters(), lr = 1e-3)\n",
    "\n",
    "pos_trainloss = []\n",
    "neg_trainloss = []\n",
    "train_loss = []\n",
    "\n",
    "for i in tqdm(range(20)):\n",
    "    ypred = model(embeddings_pos)\n",
    "    loss_pos = criterion(torch.ones((1, 1)).cuda(), ypred)\n",
    "    pos_trainloss.append(loss_pos.data.tolist())\n",
    "\n",
    "    ypred = model(embeddings_neg)\n",
    "    loss_neg = criterion(torch.zeros((1, 1)).cuda(), ypred)\n",
    "    neg_trainloss.append(loss_neg.data.tolist())\n",
    "\n",
    "    loss = loss_pos + loss_neg\n",
    "    train_loss.append(loss.data.tolist())\n",
    "\n",
    "    optim.zero_grad()\n",
    "    loss.backward()\n",
    "    optim.step()\n",
    "\n",
    "plt.scatter([i for i in range(len(train_loss))], train_loss, marker = \".\", c = \"b\")\n",
    "plt.scatter([i for i in range(len(pos_trainloss))], pos_trainloss, marker = \".\", c = \"r\")\n",
    "plt.scatter([i for i in range(len(neg_trainloss))], neg_trainloss, marker = \".\", c = \"g\")\n",
    "plt.show()"
   ]
  },
  {
   "cell_type": "code",
   "execution_count": null,
   "metadata": {},
   "outputs": [],
   "source": []
  }
 ],
 "metadata": {
  "kernelspec": {
   "display_name": "tcr-cancer",
   "language": "python",
   "name": "python3"
  },
  "language_info": {
   "codemirror_mode": {
    "name": "ipython",
    "version": 3
   },
   "file_extension": ".py",
   "mimetype": "text/x-python",
   "name": "python",
   "nbconvert_exporter": "python",
   "pygments_lexer": "ipython3",
   "version": "3.11.7"
  }
 },
 "nbformat": 4,
 "nbformat_minor": 2
}
